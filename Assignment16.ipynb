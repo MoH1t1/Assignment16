{
  "metadata": {
    "kernelspec": {
      "name": "python",
      "display_name": "Python (Pyodide)",
      "language": "python"
    },
    "language_info": {
      "codemirror_mode": {
        "name": "python",
        "version": 3
      },
      "file_extension": ".py",
      "mimetype": "text/x-python",
      "name": "python",
      "nbconvert_exporter": "python",
      "pygments_lexer": "ipython3",
      "version": "3.8"
    }
  },
  "nbformat_minor": 4,
  "nbformat": 4,
  "cells": [
    {
      "cell_type": "code",
      "source": "# Q1. Explain GET and POST methods.\n\nGET Method:\nUsed to retrieve data from the server.\nParameters are sent in the URL query string (visible to users).\nIt is idempotent, meaning multiple requests have the same effect as a single one.\nTypically used for fetching information or displaying resources.\n\nPOST Method:\nUsed to send data to the server, often for creating or updating resources.\nParameters are sent in the HTTP request body (not visible in the URL).\nIt is not idempotent, meaning multiple requests can have different effects.\nCommonly used for form submissions or API calls.\n",
      "metadata": {
        "trusted": true
      },
      "outputs": [],
      "execution_count": null
    },
    {
      "cell_type": "code",
      "source": "# Q2. Why is request used in Flask?\n\nIn Flask, the request object is used to access incoming data from the client. It enables the handling of:\nForm Data, Query Parameters, JSON Data, HTTP Headers and Request Metadata.",
      "metadata": {
        "trusted": true
      },
      "outputs": [],
      "execution_count": null
    },
    {
      "cell_type": "code",
      "source": "# Q3. Why is redirect() used in Flask?\n\nThe redirect() function is used to redirect a client to a different URL or endpoint. It sends a 302 Found HTTP status code with the new location.",
      "metadata": {
        "trusted": true
      },
      "outputs": [],
      "execution_count": null
    },
    {
      "cell_type": "code",
      "source": "# Q4. What are templates in Flask? Why is the render_template() function used?\n\nTemplates are HTML files that can include dynamic content using placeholders and control structures. Flask uses Jinja2 as its template engine to render templates.\nThe render_template() function is used to render templates dynamically by passing data from the Flask backend to the HTML file.\n",
      "metadata": {
        "trusted": true
      },
      "outputs": [],
      "execution_count": null
    },
    {
      "cell_type": "code",
      "source": "# Q5. Create a simple API. Use Postman to test it. Attach the screenshot of the output in the Jupyter Notebook.\n\nfrom flask import Flask, jsonify, request\n\napp = Flask(__name__)\n\n@app.route('/api/data', methods=['GET', 'POST'])\ndef api_data():\n    if request.method == 'GET':\n        return jsonify({'message': 'This is a GET request', 'status': 'success'})\n\n    if request.method == 'POST':\n        data = request.json\n        return jsonify({'message': 'Data received', 'data': data, 'status': 'success'})\n\nif __name__ == '__main__':\n    app.run(debug=True)\n",
      "metadata": {
        "trusted": true
      },
      "outputs": [],
      "execution_count": null
    },
    {
      "cell_type": "code",
      "source": "from IPython.display import Image, display\ndisplay(Image(filename='output2.png'))\n",
      "metadata": {
        "trusted": true
      },
      "outputs": [
        {
          "output_type": "display_data",
          "data": {
            "image/png": "[encoded data removed]",
            "text/plain": "<IPython.core.display.Image object>"
          },
          "metadata": {}
        }
      ],
      "execution_count": 2
    }
  ]
}